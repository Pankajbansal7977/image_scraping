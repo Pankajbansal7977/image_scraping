{
 "cells": [
  {
   "cell_type": "code",
   "execution_count": 8,
   "metadata": {},
   "outputs": [],
   "source": [
    "import os\n",
    "import logging \n",
    "from bs4 import BeautifulSoup\n",
    "from urllib.request import urlopen\n",
    "import requests"
   ]
  },
  {
   "cell_type": "code",
   "execution_count": 9,
   "metadata": {},
   "outputs": [],
   "source": [
    "save_dir = \"image/\" # save image this folder\n",
    "if not os.path.exists(save_dir): # use for create given folder if not shown\n",
    "    os.makedirs(save_dir)"
   ]
  },
  {
   "cell_type": "code",
   "execution_count": 10,
   "metadata": {},
   "outputs": [],
   "source": [
    "query = \"Krish Naik\"\n",
    "response = requests.get(f\"https://www.google.com/search?q=Krish+naik&tbm=isch&ved=2ahUKEwjtr8n-yrWAAxWcz6ACHUFVDGwQ2-cCegQIABAA&oq=Krish+naik&gs_lcp=CgNpbWcQAzIFCAAQgAQyBQgAEIAEMgcIABAYEIAEMgcIABAYEIAEMgcIABAYEIAEMgcIABAYEIAEMgcIABAYEIAEMgcIABAYEIAEMgcIABAYEIAEMgcIABAYEIAEOgoIABCKBRCxAxBDOggIABCABBCxAzoHCAAQigUQQzoECCMQJzoHCCMQ6gIQJzoICAAQsQMQgwE6CwgAEIAEELEDEIMBUNsMWNUwYOczaAFwAHgBgAGQAogB3xWSAQYwLjEzLjOYAQCgAQGqAQtnd3Mtd2l6LWltZ7ABCsABAQ&sclient=img&ei=8OXFZO33A5yfg8UPwaqx4AY&bih=651&biw=1366&rlz=1C1VDKB_enIN1036IN1036\")"
   ]
  },
  {
   "cell_type": "code",
   "execution_count": 11,
   "metadata": {},
   "outputs": [
    {
     "data": {
      "text/plain": [
       "<Response [200]>"
      ]
     },
     "execution_count": 11,
     "metadata": {},
     "output_type": "execute_result"
    }
   ],
   "source": [
    "response # its means in this path elon mask 200 pics\n"
   ]
  },
  {
   "cell_type": "code",
   "execution_count": 12,
   "metadata": {},
   "outputs": [],
   "source": [
    "soup_new = BeautifulSoup(response.content,\"html.parser\") # use for content display  & html.parser give a report in  manner way "
   ]
  },
  {
   "cell_type": "code",
   "execution_count": 13,
   "metadata": {},
   "outputs": [
    {
     "data": {
      "text/plain": [
       "<!DOCTYPE html PUBLIC \"-//WAPFORUM//DTD XHTML Mobile 1.0//EN\" \"http://www.wapforum.org/DTD/xhtml-mobile10.dtd\">\n",
       "<html lang=\"en-IN\" xmlns=\"http://www.w3.org/1999/xhtml\"><head><meta content=\"application/xhtml+xml; charset=utf-8\" http-equiv=\"Content-Type\"/><meta content=\"no-cache\" name=\"Cache-Control\"/><title>Krish naik - Google Search</title><style>a{text-decoration:none;color:inherit}a:hover{text-decoration:underline}a img{border:0}body{font-family:arial,sans-serif;padding:8px;margin:0 auto;max-width:700px;min-width:240px;}.FbhRzb{border-left:thin solid #dadce0;border-right:thin solid #dadce0;border-top:thin solid #dadce0;height:40px;overflow:hidden}.n692Zd{margin-bottom:10px}.cvifge{height:40px;border-spacing:0}.QvGUP{height:40px;padding:0 8px 0 8px;vertical-align:top}.O4cRJf{height:40px;width:100%;padding:0;padding-right:16px}.O1ePr{height:40px;padding:0;vertical-align:top}.kgJEQe{height:36px;width:98px;vertical-align:top;margin-top:4px}.lXLRf{vertical-align:top}.MhzMZd{border:0;vertical-align:middle;font-size:14px;height:40px;padding:0;width:100%;padding-left:16px}.xB0fq{height:40px;border:none;font-size:14px;background-color:#1a73e8;color:#fff;padding:0 16px;margin:0;vertical-align:top;cursor:pointer}.xB0fq:focus{border:1px solid #1a73e8}.M7pB2{border:thin solid #dadce0;margin:0 0 3px 0;font-size:13px;font-weight:500;height:40px}.euZec{width:100%;height:40px;text-align:center;border-spacing:0}table.euZec td{padding:0;width:25%}.QIqI7{display:inline-block;padding-top:4px;font-weight:bold;color:#4285f4}.EY24We{border-bottom:2px solid #4285f4}.CsQyDc{display:inline-block;color:#70757a}.TuS8Ad{font-size:14px}.HddGcc{padding:8px;color:#70757a}.dzp8ae{font-weight:bold;color:#3c4043}.rEM8G{color:#70757a}.bookcf{table-layout:fixed;width:100%;border-spacing:0}.InWNIe{text-align:center}.uZgmoc{border:thin solid #dadce0;color:#70757a;font-size:14px;text-align:center;table-layout:fixed;width:100%}.frGj1b{display:block;padding:12px 0 12px 0;width:100%}.BnJWBc{text-align:center;padding:6px 0 13px 0;height:35px}.e3goi{vertical-align:top;padding:0;height:180px}.GpQGbf{margin:auto;border-collapse:collapse;border-spacing:0;width:100%}</style></head><body><style>.X6ZCif{color:#202124;font-size:11px;line-height:16px;display:inline-block;padding-top:2px;overflow:hidden;padding-bottom:4px;width:100%}.TwVfHd{border-radius:16px;border:thin solid #dadce0;display:inline-block;padding:8px 8px;margin-right:8px;margin-bottom:4px}.yekiAe{background-color:#dadce0}.mnTahd{width:100%}.ezO2md{border:thin solid #dadce0;padding:12px 16px 12px 16px;margin-bottom:10px;font-family:arial,sans-serif}.lIMUZd{font-family:arial,sans-serif}.IkMU6e{border-spacing:0}.SjCsie{width:100%}.EnarA{text-align:center}.NZWO1b{width:162px;height:140px;line-height:140px;overflow:'hidden';text-align:center}.yWs4tf{text-align:center;margin:auto;vertical-align:middle;max-width:162px;max-height:140px}.jB2rPd{padding-top:2px;padding-bottom:8px;}.fYyStc{word-break:break-word}.ynsChf{display:block;white-space:nowrap;overflow:hidden;text-overflow:ellipsis}.Fj3V3b{color:#1967d2;font-size:14px;line-height:20px}.FrIlee{color:#202124;font-size:11px;line-height:16px}.F9iS2e{color:#70757a;font-size:11px;line-height:16px}.WMQ2Le{color:#70757a;font-size:12px;line-height:16px}.x3G5ab{color:#202124;font-size:12px;line-height:16px}.fuLhoc{color:#1967d2;font-size:16px;line-height:20px}.epoveb{font-size:24px;line-height:28px;font-weight:400;color:#202124}.dXDvrc{color:#0d652d;font-size:14px;line-height:20px;word-wrap:break-word}.dloBPe{font-weight:bold}.YVIcad{color:#70757a}.JkVVdd{color:#ea4335}.oXZRFd{color:#ea4335}.MQHtg{color:#fbbc04}.pyMRrb{color:#1e8e3e}.EtTZid{color:#1e8e3e}.M3vVJe{color:#1967d2}.qXLe6d{display:block}.NHQNef{font-style:italic}.Cb8Z7c{white-space:pre}a.ZWRArf{text-decoration:none}a .CVA68e:hover{text-decoration:underline}</style><div class=\"n692Zd\"><div class=\"BnJWBc\"><a class=\"lXLRf\" href=\"/?bih=651&amp;biw=1366&amp;rlz=1C1VDKB_enIN1036IN1036&amp;output=images&amp;ie=UTF-8&amp;tbm=isch&amp;sa=X&amp;ved=0ahUKEwimxp7f27WAAxWBQPUHHV28CtUQPAgC\"><img alt=\"Google\" class=\"kgJEQe\" src=\"/images/branding/searchlogo/1x/googlelogo_desk_heirloom_color_150x55dp.gif\"/></a></div><div class=\"FbhRzb\"><form action=\"/search\"><input name=\"bih\" type=\"hidden\" value=\"651\"/><input name=\"biw\" type=\"hidden\" value=\"1366\"/><input name=\"rlz\" type=\"hidden\" value=\"1C1VDKB_enIN1036IN1036\"/><input name=\"ie\" type=\"hidden\" value=\"ISO-8859-1\"/><input name=\"tbm\" type=\"hidden\" value=\"isch\"/><input name=\"oq\" type=\"hidden\"/><input name=\"aqs\" type=\"hidden\"/><table class=\"cvifge\"><tr><td class=\"O4cRJf\"><input class=\"MhzMZd\" name=\"q\" type=\"text\" value=\"Krish naik\"/></td><td class=\"O1ePr\"><input class=\"xB0fq\" type=\"submit\" value=\"Search\"/></td></tr></table></form></div><div class=\"M7pB2\"><table class=\"euZec\"><tbody><tr><td><a class=\"CsQyDc\" href=\"/search?q=Krish+naik&amp;bih=651&amp;biw=1366&amp;rlz=1C1VDKB_enIN1036IN1036&amp;ie=UTF-8&amp;source=lnms&amp;sa=X&amp;ved=0ahUKEwimxp7f27WAAxWBQPUHHV28CtUQ_AUIBCgA\">ALL</a></td><td><a class=\"CsQyDc\" href=\"/search?q=Krish+naik&amp;bih=651&amp;biw=1366&amp;rlz=1C1VDKB_enIN1036IN1036&amp;ie=UTF-8&amp;tbm=vid&amp;source=lnms&amp;sa=X&amp;ved=0ahUKEwimxp7f27WAAxWBQPUHHV28CtUQ_AUIBSgB\">VIDEOS</a></td><td class=\"EY24We\"><span class=\"QIqI7\">IMAGES</span></td><td><a class=\"CsQyDc\" href=\"/search?q=Krish+naik&amp;bih=651&amp;biw=1366&amp;rlz=1C1VDKB_enIN1036IN1036&amp;ie=UTF-8&amp;tbm=nws&amp;source=lnms&amp;sa=X&amp;ved=0ahUKEwimxp7f27WAAxWBQPUHHV28CtUQ_AUIBygD\">NEWS</a></td></tr></tbody></table></div></div><div class=\"X6ZCif\"><a class=\"TwVfHd\" href=\"/search?bih=651&amp;biw=1366&amp;rlz=1C1VDKB_enIN1036IN1036&amp;ie=UTF-8&amp;tbm=isch&amp;q=Krish+naik&amp;chips=q:krish+naik,g_1:ineuron&amp;sa=X&amp;ved=0ahUKEwimxp7f27WAAxWBQPUHHV28CtUQ4lYICygA\">ineuron</a><a class=\"TwVfHd\" href=\"/search?bih=651&amp;biw=1366&amp;rlz=1C1VDKB_enIN1036IN1036&amp;ie=UTF-8&amp;tbm=isch&amp;q=Krish+naik&amp;chips=q:krish+naik,g_1:resume&amp;sa=X&amp;ved=0ahUKEwimxp7f27WAAxWBQPUHHV28CtUQ4lYIDCgB\">resume</a><a class=\"TwVfHd\" href=\"/search?bih=651&amp;biw=1366&amp;rlz=1C1VDKB_enIN1036IN1036&amp;ie=UTF-8&amp;tbm=isch&amp;q=Krish+naik&amp;chips=q:krish+naik,g_1:family&amp;sa=X&amp;ved=0ahUKEwimxp7f27WAAxWBQPUHHV28CtUQ4lYIDSgC\">family</a><a class=\"TwVfHd\" href=\"/search?bih=651&amp;biw=1366&amp;rlz=1C1VDKB_enIN1036IN1036&amp;ie=UTF-8&amp;tbm=isch&amp;q=Krish+naik&amp;chips=q:krish+naik,online_chips:data+scientist&amp;sa=X&amp;ved=0ahUKEwimxp7f27WAAxWBQPUHHV28CtUQ4lYIDigD\">data scientist</a><a class=\"TwVfHd\" href=\"/search?bih=651&amp;biw=1366&amp;rlz=1C1VDKB_enIN1036IN1036&amp;ie=UTF-8&amp;tbm=isch&amp;q=Krish+naik&amp;chips=q:krish+naik,online_chips:machine+learning&amp;sa=X&amp;ved=0ahUKEwimxp7f27WAAxWBQPUHHV28CtUQ4lYIDygE\">machine learning</a><a class=\"TwVfHd\" href=\"/search?bih=651&amp;biw=1366&amp;rlz=1C1VDKB_enIN1036IN1036&amp;ie=UTF-8&amp;tbm=isch&amp;q=Krish+naik&amp;chips=q:krish+naik,online_chips:data+science&amp;sa=X&amp;ved=0ahUKEwimxp7f27WAAxWBQPUHHV28CtUQ4lYIECgF\">data science</a><a class=\"TwVfHd\" href=\"/search?bih=651&amp;biw=1366&amp;rlz=1C1VDKB_enIN1036IN1036&amp;ie=UTF-8&amp;tbm=isch&amp;q=Krish+naik&amp;chips=q:krish+naik,online_chips:deep+learning&amp;sa=X&amp;ved=0ahUKEwimxp7f27WAAxWBQPUHHV28CtUQ4lYIESgG\">deep learning</a><a class=\"TwVfHd\" href=\"/search?bih=651&amp;biw=1366&amp;rlz=1C1VDKB_enIN1036IN1036&amp;ie=UTF-8&amp;tbm=isch&amp;q=Krish+naik&amp;chips=q:krish+naik,online_chips:twitter&amp;sa=X&amp;ved=0ahUKEwimxp7f27WAAxWBQPUHHV28CtUQ4lYIEigH\">twitter</a><a class=\"TwVfHd\" href=\"/search?bih=651&amp;biw=1366&amp;rlz=1C1VDKB_enIN1036IN1036&amp;ie=UTF-8&amp;tbm=isch&amp;q=Krish+naik&amp;chips=q:krish+naik,online_chips:data+analysis&amp;sa=X&amp;ved=0ahUKEwimxp7f27WAAxWBQPUHHV28CtUQ4lYIEygI\">data analysis</a><a class=\"TwVfHd\" href=\"/search?bih=651&amp;biw=1366&amp;rlz=1C1VDKB_enIN1036IN1036&amp;ie=UTF-8&amp;tbm=isch&amp;q=Krish+naik&amp;chips=q:krish+naik,online_chips:ineuron+ai&amp;sa=X&amp;ved=0ahUKEwimxp7f27WAAxWBQPUHHV28CtUQ4lYIFCgJ\">ineuron ai</a></div><div><table class=\"GpQGbf\"><tr><td align=\"center\" class=\"e3goi\"><div class=\"mnTahd\"> <div> <div class=\"lIMUZd\"><div><table class=\"IkMU6e\"><tr><td><a href=\"/url?q=https://www.youtube.com/channel/UCNU_lfiiWBdtULKOw6X0Dig&amp;sa=U&amp;ved=2ahUKEwimxp7f27WAAxWBQPUHHV28CtUQqoUBegQIAhAB&amp;usg=AOvVaw0AIzrIp8b6aF3bWIY07CD3\"><div class=\"NZWO1b\"><img alt=\"\" class=\"yWs4tf\" src=\"https://encrypted-tbn0.gstatic.com/images?q=tbn:ANd9GcTdLHBb6ajVpZneONyPsGPjGJUnjJrR-UW2ml9FCtejMj5mWIAFX5dFMpIcXGc&amp;s\"/></div></a></td></tr><tr><td><a href=\"/url?q=https://www.youtube.com/channel/UCNU_lfiiWBdtULKOw6X0Dig&amp;sa=U&amp;ved=2ahUKEwimxp7f27WAAxWBQPUHHV28CtUQr4kDegQIAhAC&amp;usg=AOvVaw14RgvkJ9_EBNBmoQufZcdI\"><div class=\"jB2rPd\"> <span class=\"qXLe6d x3G5ab\"> <span class=\"fYyStc\">Krish Naik - YouTube</span> </span> <span class=\"qXLe6d F9iS2e\"> <span class=\"fYyStc\">www.youtube.com</span> </span> </div></a></td></tr></table></div></div> </div> </div></td><td align=\"center\" class=\"e3goi\"><div class=\"mnTahd\"> <div> <div class=\"lIMUZd\"><div><table class=\"IkMU6e\"><tr><td><a href=\"/url?q=https://analyticsindiamag.com/krish-naik-speaks-about-his-ml-journey-advice-to-data-scientists/&amp;sa=U&amp;ved=2ahUKEwimxp7f27WAAxWBQPUHHV28CtUQqoUBegQIExAB&amp;usg=AOvVaw3GZ1QJerWuTXhX3OYVWIQM\"><div class=\"NZWO1b\"><img alt=\"\" class=\"yWs4tf\" src=\"https://encrypted-tbn0.gstatic.com/images?q=tbn:ANd9GcSsn-qa0QnRAF_T9ebw8coPbS45aIPmLbzR-GSYtuR4sZaGCn5s-MSkzQcKhg&amp;s\"/></div></a></td></tr><tr><td><a href=\"/url?q=https://analyticsindiamag.com/krish-naik-speaks-about-his-ml-journey-advice-to-data-scientists/&amp;sa=U&amp;ved=2ahUKEwimxp7f27WAAxWBQPUHHV28CtUQr4kDegQIExAC&amp;usg=AOvVaw3V-n6ip3v1jaUQEcxGw4tp\"><div class=\"jB2rPd\"> <span class=\"qXLe6d x3G5ab\"> <span class=\"fYyStc\">Krish Naik speaks about his...</span> </span> <span class=\"qXLe6d F9iS2e\"> <span class=\"fYyStc\">analyticsindiamag.com</span> </span> </div></a></td></tr></table></div></div> </div> </div></td><td align=\"center\" class=\"e3goi\"><div class=\"mnTahd\"> <div> <div class=\"lIMUZd\"><div><table class=\"IkMU6e\"><tr><td><a href=\"/url?q=https://www.youtube.com/post/UgkxL14OQLIn_29JHFK_qYD_itribx474U3U&amp;sa=U&amp;ved=2ahUKEwimxp7f27WAAxWBQPUHHV28CtUQqoUBegQIEhAB&amp;usg=AOvVaw1By1qh1bBR-tW3dUrN7ElG\"><div class=\"NZWO1b\"><img alt=\"\" class=\"yWs4tf\" src=\"https://encrypted-tbn0.gstatic.com/images?q=tbn:ANd9GcQw4FUz64R3HrpYeOqaUzzF49h6OJGVHkikllJYirIU3iQDWeqAHnaCGQWTnA&amp;s\"/></div></a></td></tr><tr><td><a href=\"/url?q=https://www.youtube.com/post/UgkxL14OQLIn_29JHFK_qYD_itribx474U3U&amp;sa=U&amp;ved=2ahUKEwimxp7f27WAAxWBQPUHHV28CtUQr4kDegQIEhAC&amp;usg=AOvVaw3saPqeoCzdfBLvHxTtQ3_7\"><div class=\"jB2rPd\"> <span class=\"qXLe6d x3G5ab\"> <span class=\"fYyStc\">Krish Naik - YouTube</span> </span> <span class=\"qXLe6d F9iS2e\"> <span class=\"fYyStc\">www.youtube.com</span> </span> </div></a></td></tr></table></div></div> </div> </div></td><td align=\"center\" class=\"e3goi\"><div class=\"mnTahd\"> <div> <div class=\"lIMUZd\"><div><table class=\"IkMU6e\"><tr><td><a href=\"/url?q=https://www.instagram.com/krishnaik06/&amp;sa=U&amp;ved=2ahUKEwimxp7f27WAAxWBQPUHHV28CtUQqoUBegQIERAB&amp;usg=AOvVaw3z2k3N4dL2p83vZa57Ifwu\"><div class=\"NZWO1b\"><img alt=\"\" class=\"yWs4tf\" src=\"https://encrypted-tbn0.gstatic.com/images?q=tbn:ANd9GcSWunX7AP_KGFTo0Fd7HcQkAr9ZgiujJ2hiGgwJvJoEGsSz1LauvDgww0GYdw&amp;s\"/></div></a></td></tr><tr><td><a href=\"/url?q=https://www.instagram.com/krishnaik06/&amp;sa=U&amp;ved=2ahUKEwimxp7f27WAAxWBQPUHHV28CtUQr4kDegQIERAC&amp;usg=AOvVaw134ILaCSP_RVqlFQRRO8St\"><div class=\"jB2rPd\"> <span class=\"qXLe6d x3G5ab\"> <span class=\"fYyStc\">Krish Naik (@krishnaik06) •...</span> </span> <span class=\"qXLe6d F9iS2e\"> <span class=\"fYyStc\">www.instagram.com</span> </span> </div></a></td></tr></table></div></div> </div> </div></td></tr><tr><td align=\"center\" class=\"e3goi\"><div class=\"mnTahd\"> <div> <div class=\"lIMUZd\"><div><table class=\"IkMU6e\"><tr><td><a href=\"/url?q=https://github.com/krishnaik06&amp;sa=U&amp;ved=2ahUKEwimxp7f27WAAxWBQPUHHV28CtUQqoUBegQICxAB&amp;usg=AOvVaw1pNomwg04AaNR8bhqrMgqZ\"><div class=\"NZWO1b\"><img alt=\"\" class=\"yWs4tf\" src=\"https://encrypted-tbn0.gstatic.com/images?q=tbn:ANd9GcQvxoxYt3LJwGZAmVdtFfesKWCUJhTi8u9J8u3fKQQxC2LWrXRhY7-zuUeaUUY&amp;s\"/></div></a></td></tr><tr><td><a href=\"/url?q=https://github.com/krishnaik06&amp;sa=U&amp;ved=2ahUKEwimxp7f27WAAxWBQPUHHV28CtUQr4kDegQICxAC&amp;usg=AOvVaw0ry7ss73mZjTBogZfwuNrl\"><div class=\"jB2rPd\"> <span class=\"qXLe6d x3G5ab\"> <span class=\"fYyStc\">krishnaik06 (Krish C Naik)...</span> </span> <span class=\"qXLe6d F9iS2e\"> <span class=\"fYyStc\">github.com</span> </span> </div></a></td></tr></table></div></div> </div> </div></td><td align=\"center\" class=\"e3goi\"><div class=\"mnTahd\"> <div> <div class=\"lIMUZd\"><div><table class=\"IkMU6e\"><tr><td><a href=\"/url?q=https://www.instagram.com/krishnaik06/&amp;sa=U&amp;ved=2ahUKEwimxp7f27WAAxWBQPUHHV28CtUQqoUBegQIEBAB&amp;usg=AOvVaw3kIgLB_MfNym6DYlnq1uRK\"><div class=\"NZWO1b\"><img alt=\"\" class=\"yWs4tf\" src=\"https://encrypted-tbn0.gstatic.com/images?q=tbn:ANd9GcSD5Ys8wGEpfxaCW1OHfn0uS9sXOqQGgd9cykvml3aDZBuW_yv-LeYZJmYdzA&amp;s\"/></div></a></td></tr><tr><td><a href=\"/url?q=https://www.instagram.com/krishnaik06/&amp;sa=U&amp;ved=2ahUKEwimxp7f27WAAxWBQPUHHV28CtUQr4kDegQIEBAC&amp;usg=AOvVaw0vFqreisY3WqPcY7E8bvKB\"><div class=\"jB2rPd\"> <span class=\"qXLe6d x3G5ab\"> <span class=\"fYyStc\">Krish Naik (@krishnaik06) •...</span> </span> <span class=\"qXLe6d F9iS2e\"> <span class=\"fYyStc\">www.instagram.com</span> </span> </div></a></td></tr></table></div></div> </div> </div></td><td align=\"center\" class=\"e3goi\"><div class=\"mnTahd\"> <div> <div class=\"lIMUZd\"><div><table class=\"IkMU6e\"><tr><td><a href=\"/url?q=https://www.youtube.com/%40krishnaikhindi&amp;sa=U&amp;ved=2ahUKEwimxp7f27WAAxWBQPUHHV28CtUQqoUBegQIDxAB&amp;usg=AOvVaw0FuguVgDHq8Ks8_dlo0IPu\"><div class=\"NZWO1b\"><img alt=\"\" class=\"yWs4tf\" src=\"https://encrypted-tbn0.gstatic.com/images?q=tbn:ANd9GcTrwgrS7o_O7f1cS4H1YMcmFTAO3jBuVN3G3XlZI6qFjuf1IcwjWIK6ndA-YQ&amp;s\"/></div></a></td></tr><tr><td><a href=\"/url?q=https://www.youtube.com/%40krishnaikhindi&amp;sa=U&amp;ved=2ahUKEwimxp7f27WAAxWBQPUHHV28CtUQr4kDegQIDxAC&amp;usg=AOvVaw2iSVnZN3pF1gWIMh3VxixQ\"><div class=\"jB2rPd\"> <span class=\"qXLe6d x3G5ab\"> <span class=\"fYyStc\">Krish Naik Hindi - YouTube</span> </span> <span class=\"qXLe6d F9iS2e\"> <span class=\"fYyStc\">www.youtube.com</span> </span> </div></a></td></tr></table></div></div> </div> </div></td><td align=\"center\" class=\"e3goi\"><div class=\"mnTahd\"> <div> <div class=\"lIMUZd\"><div><table class=\"IkMU6e\"><tr><td><a href=\"/url?q=https://taxila.in/faculty/krish-naik/&amp;sa=U&amp;ved=2ahUKEwimxp7f27WAAxWBQPUHHV28CtUQqoUBegQIDBAB&amp;usg=AOvVaw397P3SoUyuVpJL_KimuUki\"><div class=\"NZWO1b\"><img alt=\"\" class=\"yWs4tf\" src=\"https://encrypted-tbn0.gstatic.com/images?q=tbn:ANd9GcT50TRsat8lHlgZmlpy93IQS9Vh21VAqisgRCraAH9Oy-_EA6xvuCseDSFrrA&amp;s\"/></div></a></td></tr><tr><td><a href=\"/url?q=https://taxila.in/faculty/krish-naik/&amp;sa=U&amp;ved=2ahUKEwimxp7f27WAAxWBQPUHHV28CtUQr4kDegQIDBAC&amp;usg=AOvVaw1wmtjxJBZAUEtLQMRnzL0I\"><div class=\"jB2rPd\"> <span class=\"qXLe6d x3G5ab\"> <span class=\"fYyStc\">Prof. Krish Naik | Taxila...</span> </span> <span class=\"qXLe6d F9iS2e\"> <span class=\"fYyStc\">taxila.in</span> </span> </div></a></td></tr></table></div></div> </div> </div></td></tr><tr><td align=\"center\" class=\"e3goi\"><div class=\"mnTahd\"> <div> <div class=\"lIMUZd\"><div><table class=\"IkMU6e\"><tr><td><a href=\"/url?q=https://ca.linkedin.com/in/krish-naik-a724b2265&amp;sa=U&amp;ved=2ahUKEwimxp7f27WAAxWBQPUHHV28CtUQqoUBegQIDRAB&amp;usg=AOvVaw24If0O37tx3mkY0CWYeYdg\"><div class=\"NZWO1b\"><img alt=\"\" class=\"yWs4tf\" src=\"https://encrypted-tbn0.gstatic.com/images?q=tbn:ANd9GcQCvkLa7Zk8dFBbvKKHvgok3Bc3owJ3-TQhsHZyxV-Uazl_Sliu--r4E9eD_7Q&amp;s\"/></div></a></td></tr><tr><td><a href=\"/url?q=https://ca.linkedin.com/in/krish-naik-a724b2265&amp;sa=U&amp;ved=2ahUKEwimxp7f27WAAxWBQPUHHV28CtUQr4kDegQIDRAC&amp;usg=AOvVaw2E2mVRa26BTIisgiAFF2Ht\"><div class=\"jB2rPd\"> <span class=\"qXLe6d x3G5ab\"> <span class=\"fYyStc\">Krish Naik - Chief...</span> </span> <span class=\"qXLe6d F9iS2e\"> <span class=\"fYyStc\">ca.linkedin.com</span> </span> </div></a></td></tr></table></div></div> </div> </div></td><td align=\"center\" class=\"e3goi\"><div class=\"mnTahd\"> <div> <div class=\"lIMUZd\"><div><table class=\"IkMU6e\"><tr><td><a href=\"/url?q=https://www.youtube.com/%40krishnaik06&amp;sa=U&amp;ved=2ahUKEwimxp7f27WAAxWBQPUHHV28CtUQqoUBegQIChAB&amp;usg=AOvVaw0vgkF0VuCIlMOk_EP9Mfmd\"><div class=\"NZWO1b\"><img alt=\"\" class=\"yWs4tf\" src=\"https://encrypted-tbn0.gstatic.com/images?q=tbn:ANd9GcTFP82-GHRwxeuAPxYP-3O_qNOFtLw4BpSkV52FmNPQtZR4oCiYn3kummcUdw&amp;s\"/></div></a></td></tr><tr><td><a href=\"/url?q=https://www.youtube.com/%40krishnaik06&amp;sa=U&amp;ved=2ahUKEwimxp7f27WAAxWBQPUHHV28CtUQr4kDegQIChAC&amp;usg=AOvVaw3q8xY3AkkMsuhgtVhIH8OM\"><div class=\"jB2rPd\"> <span class=\"qXLe6d x3G5ab\"> <span class=\"fYyStc\">Krish Naik - YouTube</span> </span> <span class=\"qXLe6d F9iS2e\"> <span class=\"fYyStc\">www.youtube.com</span> </span> </div></a></td></tr></table></div></div> </div> </div></td><td align=\"center\" class=\"e3goi\"><div class=\"mnTahd\"> <div> <div class=\"lIMUZd\"><div><table class=\"IkMU6e\"><tr><td><a href=\"/url?q=https://www.instagram.com/krishnaik06/&amp;sa=U&amp;ved=2ahUKEwimxp7f27WAAxWBQPUHHV28CtUQqoUBegQICRAB&amp;usg=AOvVaw2SLCY354zJQfYZndshLzDr\"><div class=\"NZWO1b\"><img alt=\"\" class=\"yWs4tf\" src=\"https://encrypted-tbn0.gstatic.com/images?q=tbn:ANd9GcQOzPz0zSG3gCsxA1hkNDh_0eK4QzS_nQoepRgTHfuas85m-x0f5R7sZijMHQ&amp;s\"/></div></a></td></tr><tr><td><a href=\"/url?q=https://www.instagram.com/krishnaik06/&amp;sa=U&amp;ved=2ahUKEwimxp7f27WAAxWBQPUHHV28CtUQr4kDegQICRAC&amp;usg=AOvVaw1sAcJCaZGIDQVkLfGHKx1v\"><div class=\"jB2rPd\"> <span class=\"qXLe6d x3G5ab\"> <span class=\"fYyStc\">Krish Naik (@krishnaik06) •...</span> </span> <span class=\"qXLe6d F9iS2e\"> <span class=\"fYyStc\">www.instagram.com</span> </span> </div></a></td></tr></table></div></div> </div> </div></td><td align=\"center\" class=\"e3goi\"><div class=\"mnTahd\"> <div> <div class=\"lIMUZd\"><div><table class=\"IkMU6e\"><tr><td><a href=\"/url?q=https://www.instagram.com/krishnaik06/&amp;sa=U&amp;ved=2ahUKEwimxp7f27WAAxWBQPUHHV28CtUQqoUBegQIDhAB&amp;usg=AOvVaw1vdOQgCINdQsICHvdKiLdF\"><div class=\"NZWO1b\"><img alt=\"\" class=\"yWs4tf\" src=\"https://encrypted-tbn0.gstatic.com/images?q=tbn:ANd9GcRRFwrY3TavCdRbkHVoIoLxYpoxz84eXACyJaA1SwPwp2cdhUE6uyjhrL6e_tg&amp;s\"/></div></a></td></tr><tr><td><a href=\"/url?q=https://www.instagram.com/krishnaik06/&amp;sa=U&amp;ved=2ahUKEwimxp7f27WAAxWBQPUHHV28CtUQr4kDegQIDhAC&amp;usg=AOvVaw1mzd2cc3aOpf0g-1pZzfIi\"><div class=\"jB2rPd\"> <span class=\"qXLe6d x3G5ab\"> <span class=\"fYyStc\">Krish Naik (@krishnaik06) •...</span> </span> <span class=\"qXLe6d F9iS2e\"> <span class=\"fYyStc\">www.instagram.com</span> </span> </div></a></td></tr></table></div></div> </div> </div></td></tr><tr><td align=\"center\" class=\"e3goi\"><div class=\"mnTahd\"> <div> <div class=\"lIMUZd\"><div><table class=\"IkMU6e\"><tr><td><a href=\"/url?q=https://m.youtube.com/watch%3Fv%3DJxgmHe2NyeY&amp;sa=U&amp;ved=2ahUKEwimxp7f27WAAxWBQPUHHV28CtUQqoUBegQIBBAB&amp;usg=AOvVaw1G_Av6Pa6MEAW5M4oBnFEF\"><div class=\"NZWO1b\"><img alt=\"\" class=\"yWs4tf\" src=\"https://encrypted-tbn0.gstatic.com/images?q=tbn:ANd9GcSCQxdINBSRZ58XRLRQ6YHwa79ExDtQwX4p5diU-M3YLUj8mvXKftsnQMT1Ibg&amp;s\"/></div></a></td></tr><tr><td><a href=\"/url?q=https://m.youtube.com/watch%3Fv%3DJxgmHe2NyeY&amp;sa=U&amp;ved=2ahUKEwimxp7f27WAAxWBQPUHHV28CtUQr4kDegQIBBAC&amp;usg=AOvVaw1AB4U6nvftmeFd2vDH6clt\"><div class=\"jB2rPd\"> <span class=\"qXLe6d x3G5ab\"> <span class=\"fYyStc\">Complete Machine Learning...</span> </span> <span class=\"qXLe6d F9iS2e\"> <span class=\"fYyStc\">m.youtube.com</span> </span> </div></a></td></tr></table></div></div> </div> </div></td><td align=\"center\" class=\"e3goi\"><div class=\"mnTahd\"> <div> <div class=\"lIMUZd\"><div><table class=\"IkMU6e\"><tr><td><a href=\"/url?q=https://www.outlookindia.com/outlook-spotlight/sudhanshu-kumar-and-krish-naik-of-inneuron-new-heroes-of-indian-edtech-industry-news-188026&amp;sa=U&amp;ved=2ahUKEwimxp7f27WAAxWBQPUHHV28CtUQqoUBegQIABAB&amp;usg=AOvVaw1d08STbk3AXkwLt1JIhLI5\"><div class=\"NZWO1b\"><img alt=\"\" class=\"yWs4tf\" src=\"https://encrypted-tbn0.gstatic.com/images?q=tbn:ANd9GcS-XYbc4UesFF0FM3Kt8CAsRPBfLivZ7OsYByj9PTpc4NeSfKZN6pbv40PM0ro&amp;s\"/></div></a></td></tr><tr><td><a href=\"/url?q=https://www.outlookindia.com/outlook-spotlight/sudhanshu-kumar-and-krish-naik-of-inneuron-new-heroes-of-indian-edtech-industry-news-188026&amp;sa=U&amp;ved=2ahUKEwimxp7f27WAAxWBQPUHHV28CtUQr4kDegQIABAC&amp;usg=AOvVaw3fjB2B0I4ICm_30gZZFNbO\"><div class=\"jB2rPd\"> <span class=\"qXLe6d x3G5ab\"> <span class=\"fYyStc\">IMAGE_1647951655.webp</span> </span> <span class=\"qXLe6d F9iS2e\"> <span class=\"fYyStc\">www.outlookindia.com</span> </span> </div></a></td></tr></table></div></div> </div> </div></td><td align=\"center\" class=\"e3goi\"><div class=\"mnTahd\"> <div> <div class=\"lIMUZd\"><div><table class=\"IkMU6e\"><tr><td><a href=\"/url?q=https://krishnaik.in/category/data-analyst/&amp;sa=U&amp;ved=2ahUKEwimxp7f27WAAxWBQPUHHV28CtUQqoUBegQIAxAB&amp;usg=AOvVaw09EhiUVBILZ4iV3_yTcliV\"><div class=\"NZWO1b\"><img alt=\"\" class=\"yWs4tf\" src=\"https://encrypted-tbn0.gstatic.com/images?q=tbn:ANd9GcSYDXZtZdsQUkEzk0FMZnmD8WpMmW9QNckN72LTHVjYXL0Kr8ulVekejj7oICQ&amp;s\"/></div></a></td></tr><tr><td><a href=\"/url?q=https://krishnaik.in/category/data-analyst/&amp;sa=U&amp;ved=2ahUKEwimxp7f27WAAxWBQPUHHV28CtUQr4kDegQIAxAC&amp;usg=AOvVaw1XNSQr99NvgEYZozhgK262\"><div class=\"jB2rPd\"> <span class=\"qXLe6d x3G5ab\"> <span class=\"fYyStc\">Data Analyst Archives -...</span> </span> <span class=\"qXLe6d F9iS2e\"> <span class=\"fYyStc\">krishnaik.in</span> </span> </div></a></td></tr></table></div></div> </div> </div></td><td align=\"center\" class=\"e3goi\"><div class=\"mnTahd\"> <div> <div class=\"lIMUZd\"><div><table class=\"IkMU6e\"><tr><td><a href=\"/url?q=https://stars.github.com/profiles/krishnaik06/&amp;sa=U&amp;ved=2ahUKEwimxp7f27WAAxWBQPUHHV28CtUQqoUBegQIBxAB&amp;usg=AOvVaw2Rbdab4eQGUaCO2ofDRMRU\"><div class=\"NZWO1b\"><img alt=\"\" class=\"yWs4tf\" src=\"https://encrypted-tbn0.gstatic.com/images?q=tbn:ANd9GcRj2SuZ9TDMiRw5T7SjC4tPeOvQ2L3ngl_qYgl-ZtpZqJreVk3-FiZI9na7ZQ&amp;s\"/></div></a></td></tr><tr><td><a href=\"/url?q=https://stars.github.com/profiles/krishnaik06/&amp;sa=U&amp;ved=2ahUKEwimxp7f27WAAxWBQPUHHV28CtUQr4kDegQIBxAC&amp;usg=AOvVaw2zDs80jeD9U6Pz383zWONL\"><div class=\"jB2rPd\"> <span class=\"qXLe6d x3G5ab\"> <span class=\"fYyStc\">Krish C Naik | GitHub Stars...</span> </span> <span class=\"qXLe6d F9iS2e\"> <span class=\"fYyStc\">stars.github.com</span> </span> </div></a></td></tr></table></div></div> </div> </div></td></tr><tr><td align=\"center\" class=\"e3goi\"><div class=\"mnTahd\"> <div> <div class=\"lIMUZd\"><div><table class=\"IkMU6e\"><tr><td><a href=\"/url?q=https://www.kaggle.com/krishnaik06&amp;sa=U&amp;ved=2ahUKEwimxp7f27WAAxWBQPUHHV28CtUQqoUBegQIARAB&amp;usg=AOvVaw1rzo8YTO3roov0y5cWpOFq\"><div class=\"NZWO1b\"><img alt=\"\" class=\"yWs4tf\" src=\"https://encrypted-tbn0.gstatic.com/images?q=tbn:ANd9GcRYwhfw8nvP55InLe7VdTcms-OANK66MNOvv77okwve22ETdxw_ptGoLc8_hg&amp;s\"/></div></a></td></tr><tr><td><a href=\"/url?q=https://www.kaggle.com/krishnaik06&amp;sa=U&amp;ved=2ahUKEwimxp7f27WAAxWBQPUHHV28CtUQr4kDegQIARAC&amp;usg=AOvVaw2BxJxCeHez5gCffZbWtrnY\"><div class=\"jB2rPd\"> <span class=\"qXLe6d x3G5ab\"> <span class=\"fYyStc\">Krish Naik | Novice |...</span> </span> <span class=\"qXLe6d F9iS2e\"> <span class=\"fYyStc\">www.kaggle.com</span> </span> </div></a></td></tr></table></div></div> </div> </div></td><td align=\"center\" class=\"e3goi\"><div class=\"mnTahd\"> <div> <div class=\"lIMUZd\"><div><table class=\"IkMU6e\"><tr><td><a href=\"/url?q=https://www.instagram.com/krishnaik06/&amp;sa=U&amp;ved=2ahUKEwimxp7f27WAAxWBQPUHHV28CtUQqoUBegQIBRAB&amp;usg=AOvVaw1KH3WbzNZ1Vexuaf277_Vr\"><div class=\"NZWO1b\"><img alt=\"\" class=\"yWs4tf\" src=\"https://encrypted-tbn0.gstatic.com/images?q=tbn:ANd9GcRO588OnRVF835dCSTWDwGlDtaVi9yeMzMGOD-iAftTJK-GJvpwRWzB8mELbwo&amp;s\"/></div></a></td></tr><tr><td><a href=\"/url?q=https://www.instagram.com/krishnaik06/&amp;sa=U&amp;ved=2ahUKEwimxp7f27WAAxWBQPUHHV28CtUQr4kDegQIBRAC&amp;usg=AOvVaw3oMY4D1fqgCpTnIVg3tNEX\"><div class=\"jB2rPd\"> <span class=\"qXLe6d x3G5ab\"> <span class=\"fYyStc\">Krish Naik (@krishnaik06) •...</span> </span> <span class=\"qXLe6d F9iS2e\"> <span class=\"fYyStc\">www.instagram.com</span> </span> </div></a></td></tr></table></div></div> </div> </div></td><td align=\"center\" class=\"e3goi\"><div class=\"mnTahd\"> <div> <div class=\"lIMUZd\"><div><table class=\"IkMU6e\"><tr><td><a href=\"/url?q=https://twitter.com/Krishnaik06/status/1411892955812667396&amp;sa=U&amp;ved=2ahUKEwimxp7f27WAAxWBQPUHHV28CtUQqoUBegQICBAB&amp;usg=AOvVaw1LE3H8_8syxR1LXxJMogUW\"><div class=\"NZWO1b\"><img alt=\"\" class=\"yWs4tf\" src=\"https://encrypted-tbn0.gstatic.com/images?q=tbn:ANd9GcSDjsBp-O-C9TmSWOPzl9BR_xnV8xZm17uFwYfYengo5fiofPFu_H1ZzYENhwU&amp;s\"/></div></a></td></tr><tr><td><a href=\"/url?q=https://twitter.com/Krishnaik06/status/1411892955812667396&amp;sa=U&amp;ved=2ahUKEwimxp7f27WAAxWBQPUHHV28CtUQr4kDegQICBAC&amp;usg=AOvVaw0ZLAoeTGoCsbsqMJR5St9f\"><div class=\"jB2rPd\"> <span class=\"qXLe6d x3G5ab\"> <span class=\"fYyStc\">Krish Naik on Twitter:...</span> </span> <span class=\"qXLe6d F9iS2e\"> <span class=\"fYyStc\">twitter.com</span> </span> </div></a></td></tr></table></div></div> </div> </div></td><td align=\"center\" class=\"e3goi\"><div class=\"mnTahd\"> <div> <div class=\"lIMUZd\"><div><table class=\"IkMU6e\"><tr><td><a href=\"/url?q=https://www.linkedin.com/posts/naikkrish_githubstars-github-githubeducation-activity-6967846099621470208-bvHv&amp;sa=U&amp;ved=2ahUKEwimxp7f27WAAxWBQPUHHV28CtUQqoUBegQIBhAB&amp;usg=AOvVaw3NOzQnMq0wXQftEaaYrWtg\"><div class=\"NZWO1b\"><img alt=\"\" class=\"yWs4tf\" src=\"https://encrypted-tbn0.gstatic.com/images?q=tbn:ANd9GcROUzG4rE-ZhpmzFSlqgfHcb8eBg60YbzFqkFe6qYcaBf3l6xdf68MvX-r1afk&amp;s\"/></div></a></td></tr><tr><td><a href=\"/url?q=https://www.linkedin.com/posts/naikkrish_githubstars-github-githubeducation-activity-6967846099621470208-bvHv&amp;sa=U&amp;ved=2ahUKEwimxp7f27WAAxWBQPUHHV28CtUQr4kDegQIBhAC&amp;usg=AOvVaw15M5CyAszCOFUiLBCw3KuE\"><div class=\"jB2rPd\"> <span class=\"qXLe6d x3G5ab\"> <span class=\"fYyStc\">Krish Naik on LinkedIn:...</span> </span> <span class=\"qXLe6d F9iS2e\"> <span class=\"fYyStc\">www.linkedin.com</span> </span> </div></a></td></tr></table></div></div> </div> </div></td></tr></table></div><table class=\"uZgmoc\"><tbody><td><a class=\"frGj1b\" href=\"/search?q=Krish+naik&amp;bih=651&amp;biw=1366&amp;rlz=1C1VDKB_enIN1036IN1036&amp;ie=UTF-8&amp;tbm=isch&amp;ei=gffFZOaBLoGB1e8P3fiqqA0&amp;start=20&amp;sa=N\">Next &gt;</a></td></tbody></table><br/><div class=\"TuS8Ad\" data-ved=\"0ahUKEwimxp7f27WAAxWBQPUHHV28CtUQpyoIUg\"><style>.VYM29{font-weight:bold}</style><div align=\"center\" class=\"HddGcc\"><span class=\"VYM29\">Mumbai, Maharashtra</span><span> - </span><span>From your IP address</span><span> - </span><a href=\"/url?q=https://support.google.com/websearch%3Fp%3Dws_settings_location%26hl%3Den-IN&amp;sa=U&amp;ved=0ahUKEwimxp7f27WAAxWBQPUHHV28CtUQty4IUw&amp;usg=AOvVaw2QdT189qtZ2l1EzvRT_3p9\">Learn more</a></div><div align=\"center\"><a class=\"rEM8G\" href=\"/url?q=https://accounts.google.com/ServiceLogin%3Fcontinue%3Dhttps://www.google.com/search%253Fq%253DKrish%252Bnaik%2526tbm%253Disch%2526ved%253D2ahUKEwjtr8n-yrWAAxWcz6ACHUFVDGwQ2-cCegQIABAA%2526oq%253DKrish%252Bnaik%2526gs_lcp%253DCgNpbWcQAzIFCAAQgAQyBQgAEIAEMgcIABAYEIAEMgcIABAYEIAEMgcIABAYEIAEMgcIABAYEIAEMgcIABAYEIAEMgcIABAYEIAEMgcIABAYEIAEMgcIABAYEIAEOgoIABCKBRCxAxBDOggIABCABBCxAzoHCAAQigUQQzoECCMQJzoHCCMQ6gIQJzoICAAQsQMQgwE6CwgAEIAEELEDEIMBUNsMWNUwYOczaAFwAHgBgAGQAogB3xWSAQYwLjEzLjOYAQCgAQGqAQtnd3Mtd2l6LWltZ7ABCsABAQ%2526sclient%253Dimg%2526ei%253D8OXFZO33A5yfg8UPwaqx4AY%2526bih%253D651%2526biw%253D1366%2526rlz%253D1C1VDKB_enIN1036IN1036%26hl%3Den&amp;sa=U&amp;ved=0ahUKEwimxp7f27WAAxWBQPUHHV28CtUQxs8CCFQ&amp;usg=AOvVaw1T6J6DgkjWFwSZfcujebq3\">Sign in</a></div><div><table class=\"bookcf\"><tbody class=\"InWNIe\"><tr><td><a class=\"rEM8G\" href=\"https://www.google.com/preferences?hl=en&amp;sa=X&amp;ved=0ahUKEwimxp7f27WAAxWBQPUHHV28CtUQv5YECFU\">Settings</a></td><td><a class=\"rEM8G\" href=\"https://www.google.com/intl/en_in/policies/privacy/\">Privacy</a></td><td><a class=\"rEM8G\" href=\"https://www.google.com/intl/en_in/policies/terms/\">Terms</a></td></tr></tbody></table></div></div><div> </div></body></html>"
      ]
     },
     "execution_count": 13,
     "metadata": {},
     "output_type": "execute_result"
    }
   ],
   "source": [
    "soup_new"
   ]
  },
  {
   "cell_type": "code",
   "execution_count": 14,
   "metadata": {},
   "outputs": [],
   "source": [
    "imag_tags = soup_new.find_all(\"img\") # use for find all image tag given path"
   ]
  },
  {
   "cell_type": "code",
   "execution_count": 15,
   "metadata": {},
   "outputs": [
    {
     "data": {
      "text/plain": [
       "[<img alt=\"Google\" class=\"kgJEQe\" src=\"/images/branding/searchlogo/1x/googlelogo_desk_heirloom_color_150x55dp.gif\"/>,\n",
       " <img alt=\"\" class=\"yWs4tf\" src=\"https://encrypted-tbn0.gstatic.com/images?q=tbn:ANd9GcTdLHBb6ajVpZneONyPsGPjGJUnjJrR-UW2ml9FCtejMj5mWIAFX5dFMpIcXGc&amp;s\"/>,\n",
       " <img alt=\"\" class=\"yWs4tf\" src=\"https://encrypted-tbn0.gstatic.com/images?q=tbn:ANd9GcSsn-qa0QnRAF_T9ebw8coPbS45aIPmLbzR-GSYtuR4sZaGCn5s-MSkzQcKhg&amp;s\"/>,\n",
       " <img alt=\"\" class=\"yWs4tf\" src=\"https://encrypted-tbn0.gstatic.com/images?q=tbn:ANd9GcQw4FUz64R3HrpYeOqaUzzF49h6OJGVHkikllJYirIU3iQDWeqAHnaCGQWTnA&amp;s\"/>,\n",
       " <img alt=\"\" class=\"yWs4tf\" src=\"https://encrypted-tbn0.gstatic.com/images?q=tbn:ANd9GcSWunX7AP_KGFTo0Fd7HcQkAr9ZgiujJ2hiGgwJvJoEGsSz1LauvDgww0GYdw&amp;s\"/>,\n",
       " <img alt=\"\" class=\"yWs4tf\" src=\"https://encrypted-tbn0.gstatic.com/images?q=tbn:ANd9GcQvxoxYt3LJwGZAmVdtFfesKWCUJhTi8u9J8u3fKQQxC2LWrXRhY7-zuUeaUUY&amp;s\"/>,\n",
       " <img alt=\"\" class=\"yWs4tf\" src=\"https://encrypted-tbn0.gstatic.com/images?q=tbn:ANd9GcSD5Ys8wGEpfxaCW1OHfn0uS9sXOqQGgd9cykvml3aDZBuW_yv-LeYZJmYdzA&amp;s\"/>,\n",
       " <img alt=\"\" class=\"yWs4tf\" src=\"https://encrypted-tbn0.gstatic.com/images?q=tbn:ANd9GcTrwgrS7o_O7f1cS4H1YMcmFTAO3jBuVN3G3XlZI6qFjuf1IcwjWIK6ndA-YQ&amp;s\"/>,\n",
       " <img alt=\"\" class=\"yWs4tf\" src=\"https://encrypted-tbn0.gstatic.com/images?q=tbn:ANd9GcT50TRsat8lHlgZmlpy93IQS9Vh21VAqisgRCraAH9Oy-_EA6xvuCseDSFrrA&amp;s\"/>,\n",
       " <img alt=\"\" class=\"yWs4tf\" src=\"https://encrypted-tbn0.gstatic.com/images?q=tbn:ANd9GcQCvkLa7Zk8dFBbvKKHvgok3Bc3owJ3-TQhsHZyxV-Uazl_Sliu--r4E9eD_7Q&amp;s\"/>,\n",
       " <img alt=\"\" class=\"yWs4tf\" src=\"https://encrypted-tbn0.gstatic.com/images?q=tbn:ANd9GcTFP82-GHRwxeuAPxYP-3O_qNOFtLw4BpSkV52FmNPQtZR4oCiYn3kummcUdw&amp;s\"/>,\n",
       " <img alt=\"\" class=\"yWs4tf\" src=\"https://encrypted-tbn0.gstatic.com/images?q=tbn:ANd9GcQOzPz0zSG3gCsxA1hkNDh_0eK4QzS_nQoepRgTHfuas85m-x0f5R7sZijMHQ&amp;s\"/>,\n",
       " <img alt=\"\" class=\"yWs4tf\" src=\"https://encrypted-tbn0.gstatic.com/images?q=tbn:ANd9GcRRFwrY3TavCdRbkHVoIoLxYpoxz84eXACyJaA1SwPwp2cdhUE6uyjhrL6e_tg&amp;s\"/>,\n",
       " <img alt=\"\" class=\"yWs4tf\" src=\"https://encrypted-tbn0.gstatic.com/images?q=tbn:ANd9GcSCQxdINBSRZ58XRLRQ6YHwa79ExDtQwX4p5diU-M3YLUj8mvXKftsnQMT1Ibg&amp;s\"/>,\n",
       " <img alt=\"\" class=\"yWs4tf\" src=\"https://encrypted-tbn0.gstatic.com/images?q=tbn:ANd9GcS-XYbc4UesFF0FM3Kt8CAsRPBfLivZ7OsYByj9PTpc4NeSfKZN6pbv40PM0ro&amp;s\"/>,\n",
       " <img alt=\"\" class=\"yWs4tf\" src=\"https://encrypted-tbn0.gstatic.com/images?q=tbn:ANd9GcSYDXZtZdsQUkEzk0FMZnmD8WpMmW9QNckN72LTHVjYXL0Kr8ulVekejj7oICQ&amp;s\"/>,\n",
       " <img alt=\"\" class=\"yWs4tf\" src=\"https://encrypted-tbn0.gstatic.com/images?q=tbn:ANd9GcRj2SuZ9TDMiRw5T7SjC4tPeOvQ2L3ngl_qYgl-ZtpZqJreVk3-FiZI9na7ZQ&amp;s\"/>,\n",
       " <img alt=\"\" class=\"yWs4tf\" src=\"https://encrypted-tbn0.gstatic.com/images?q=tbn:ANd9GcRYwhfw8nvP55InLe7VdTcms-OANK66MNOvv77okwve22ETdxw_ptGoLc8_hg&amp;s\"/>,\n",
       " <img alt=\"\" class=\"yWs4tf\" src=\"https://encrypted-tbn0.gstatic.com/images?q=tbn:ANd9GcRO588OnRVF835dCSTWDwGlDtaVi9yeMzMGOD-iAftTJK-GJvpwRWzB8mELbwo&amp;s\"/>,\n",
       " <img alt=\"\" class=\"yWs4tf\" src=\"https://encrypted-tbn0.gstatic.com/images?q=tbn:ANd9GcSDjsBp-O-C9TmSWOPzl9BR_xnV8xZm17uFwYfYengo5fiofPFu_H1ZzYENhwU&amp;s\"/>,\n",
       " <img alt=\"\" class=\"yWs4tf\" src=\"https://encrypted-tbn0.gstatic.com/images?q=tbn:ANd9GcROUzG4rE-ZhpmzFSlqgfHcb8eBg60YbzFqkFe6qYcaBf3l6xdf68MvX-r1afk&amp;s\"/>]"
      ]
     },
     "execution_count": 15,
     "metadata": {},
     "output_type": "execute_result"
    }
   ],
   "source": [
    "imag_tags\n"
   ]
  },
  {
   "cell_type": "code",
   "execution_count": 16,
   "metadata": {},
   "outputs": [],
   "source": [
    "del imag_tags[0] # del firts line "
   ]
  },
  {
   "cell_type": "code",
   "execution_count": 17,
   "metadata": {},
   "outputs": [],
   "source": [
    "for i in imag_tags:\n",
    "    image_url = i['src'] # use for fatch all images\n",
    "    image_data = requests.get(image_url).content\n",
    "    with open(os.path.join(save_dir,f\"{query}_{imag_tags.index(i)}.jpg\"),\"wb\") as f:\n",
    "              f.write(image_data)"
   ]
  },
  {
   "cell_type": "code",
   "execution_count": null,
   "metadata": {},
   "outputs": [],
   "source": []
  }
 ],
 "metadata": {
  "kernelspec": {
   "display_name": "Python 3.8.0 64-bit ('newev')",
   "language": "python",
   "name": "python3"
  },
  "language_info": {
   "codemirror_mode": {
    "name": "ipython",
    "version": 3
   },
   "file_extension": ".py",
   "mimetype": "text/x-python",
   "name": "python",
   "nbconvert_exporter": "python",
   "pygments_lexer": "ipython3",
   "version": "3.8.0"
  },
  "orig_nbformat": 4,
  "vscode": {
   "interpreter": {
    "hash": "88daddbd98bca763939a0560d6c3f037b6aafc79318e0e743593b33c3da7cf2f"
   }
  }
 },
 "nbformat": 4,
 "nbformat_minor": 2
}
